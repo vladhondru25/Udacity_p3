{
 "cells": [
  {
   "cell_type": "markdown",
   "metadata": {},
   "source": [
    "# Collaboration and Competition\n",
    "\n",
    "---\n",
    "\n",
    "Follow the instructions below to get started! It is important to run the cells in the exact order they appear.\n",
    "\n",
    "## 1. Start the Environment\n",
    "\n",
    "Run the next code cell to install a few packages.  This line will take a few minutes to run!"
   ]
  },
  {
   "cell_type": "code",
   "execution_count": 3,
   "metadata": {},
   "outputs": [
    {
     "name": "stdout",
     "output_type": "stream",
     "text": [
      "\u001b[31mtensorflow 1.7.1 has requirement numpy>=1.13.3, but you'll have numpy 1.12.1 which is incompatible.\u001b[0m\r\n",
      "\u001b[31mipython 6.5.0 has requirement prompt-toolkit<2.0.0,>=1.0.15, but you'll have prompt-toolkit 3.0.5 which is incompatible.\u001b[0m\r\n"
     ]
    }
   ],
   "source": [
    "!pip -q install ./python"
   ]
  },
  {
   "cell_type": "code",
   "execution_count": 4,
   "metadata": {},
   "outputs": [],
   "source": [
    "%load_ext autoreload\n",
    "%autoreload 2"
   ]
  },
  {
   "cell_type": "markdown",
   "metadata": {},
   "source": [
    "The environment is already saved in the Workspace and can be accessed at the file path provided below. \n",
    "\n",
    "Firstly, the environment and the needed libraries are imported."
   ]
  },
  {
   "cell_type": "code",
   "execution_count": 5,
   "metadata": {},
   "outputs": [
    {
     "name": "stderr",
     "output_type": "stream",
     "text": [
      "INFO:unityagents:\n",
      "'Academy' started successfully!\n",
      "Unity Academy name: Academy\n",
      "        Number of Brains: 1\n",
      "        Number of External Brains : 1\n",
      "        Lesson number : 0\n",
      "        Reset Parameters :\n",
      "\t\t\n",
      "Unity brain name: TennisBrain\n",
      "        Number of Visual Observations (per agent): 0\n",
      "        Vector Observation space type: continuous\n",
      "        Vector Observation space size (per agent): 8\n",
      "        Number of stacked Vector Observation: 3\n",
      "        Vector Action space type: continuous\n",
      "        Vector Action space size (per agent): 2\n",
      "        Vector Action descriptions: , \n"
     ]
    }
   ],
   "source": [
    "from unityagents import UnityEnvironment\n",
    "import numpy as np\n",
    "\n",
    "env = UnityEnvironment(file_name=\"/data/Tennis_Linux_NoVis/Tennis\")"
   ]
  },
  {
   "cell_type": "markdown",
   "metadata": {},
   "source": [
    "The rest of the required libraries are imported.\n",
    "\n",
    "Environments contain **_brains_** which are responsible for deciding the actions of their associated agents. Here we check for the first brain available, and set it as the default brain we will be controlling from Python."
   ]
  },
  {
   "cell_type": "code",
   "execution_count": 11,
   "metadata": {},
   "outputs": [
    {
     "name": "stdout",
     "output_type": "stream",
     "text": [
      "Number of agents: 2\n",
      "Size of each action: 2\n",
      "There are 2 agents. Each observes a state with length: 24\n",
      "The state for the first agent looks like: [ 0.          0.          0.          0.          0.          0.          0.\n",
      "  0.          0.          0.          0.          0.          0.          0.\n",
      "  0.          0.         -7.38993645 -1.5        -0.          0.\n",
      "  6.83172083  5.99607611 -0.          0.        ]\n"
     ]
    }
   ],
   "source": [
    "import torch\n",
    "from collections import deque\n",
    "import matplotlib.pyplot as plt\n",
    "%matplotlib inline\n",
    "\n",
    "from multi_agent import MultiAgent\n",
    "\n",
    "# get the default brain\n",
    "brain_name = env.brain_names[0]\n",
    "brain = env.brains[brain_name]\n",
    "\n",
    "# reset the environment\n",
    "env_info = env.reset(train_mode=True)[brain_name]\n",
    "\n",
    "# number of agents \n",
    "num_agents = len(env_info.agents)\n",
    "print('Number of agents:', num_agents)\n",
    "\n",
    "# size of each action\n",
    "action_size = brain.vector_action_space_size\n",
    "print('Size of each action:', action_size)\n",
    "\n",
    "# examine the state space \n",
    "states = env_info.vector_observations\n",
    "state_size = states.shape[1]\n",
    "print('There are {} agents. Each observes a state with length: {}'.format(states.shape[0], state_size))\n",
    "print('The state for the first agent looks like:', states[0])"
   ]
  },
  {
   "cell_type": "markdown",
   "metadata": {},
   "source": [
    "## 2. Training\n",
    "\n",
    "### Hyper-paremeters\n",
    "Below are the hyperparameters used for the training algorithm."
   ]
  },
  {
   "cell_type": "code",
   "execution_count": 12,
   "metadata": {},
   "outputs": [],
   "source": [
    "BUFFER_SIZE = int(1e5)  # replay buffer size\n",
    "BATCH_SIZE = 256        # minibatch size\n",
    "LR_ACTOR = 1e-4         # learning rate of the actor\n",
    "LR_CRITIC = 1e-3        # learning rate of the critic\n",
    "WEIGHT_DECAY = 0        # L2 weight decay\n",
    "LEARN_EVERY = 1         # learning timestep interval\n",
    "GAMMA = 0.99            # discount factor\n",
    "TAU = 1e-3              # for soft update of target parameters\n",
    "OU_SIGMA = 0.2          # Ornstein-Uhlenbeck noise parameter, volatility\n",
    "OU_THETA = 0.15         # Ornstein-Uhlenbeck noise parameter, speed of mean reversion\n",
    "\n",
    "config = {}\n",
    "config['buffer_size']  = BUFFER_SIZE\n",
    "config['batch_size']   = BATCH_SIZE\n",
    "config['lr_actor']     = LR_ACTOR\n",
    "config['lr_critic']    = LR_CRITIC\n",
    "config['weight_decay'] = WEIGHT_DECAY\n",
    "config['learn_every']  = LEARN_EVERY\n",
    "config['gamma']        = GAMMA\n",
    "config['tau']          = TAU\n",
    "config['ou_sigma']     = OU_SIGMA\n",
    "config['ou_theta']     = OU_THETA"
   ]
  },
  {
   "cell_type": "markdown",
   "metadata": {},
   "source": [
    "### Other pre-train actions\n",
    "\n",
    "The instance of the agents used to solve the environment is created. Moreover, other variables and objects used are declared."
   ]
  },
  {
   "cell_type": "code",
   "execution_count": 16,
   "metadata": {},
   "outputs": [],
   "source": [
    "N_EPISODES = 5000\n",
    "\n",
    "np.random.seed(0)\n",
    "torch.manual_seed(0)\n",
    "\n",
    "\n",
    "multi_agent = MultiAgent(state_size, action_size, num_agents, 0, config)"
   ]
  },
  {
   "cell_type": "markdown",
   "metadata": {},
   "source": [
    "### Training pipeline\n",
    "\n",
    "The training pipeline is written in the function below."
   ]
  },
  {
   "cell_type": "code",
   "execution_count": 17,
   "metadata": {},
   "outputs": [],
   "source": [
    "def training():\n",
    "    scores_window = deque(maxlen=100)\n",
    "    scores = []\n",
    "    average_scores = []\n",
    "    \n",
    "    for i_episode in range(1, N_EPISODES+1):     \n",
    "        env_info = env.reset(train_mode=True)[brain_name]      # reset the environment  \n",
    "        states = env_info.vector_observations                  # get the current state (for each agent)\n",
    "        score  = np.zeros(num_agents)                          # initialize the score  (for each agent)\n",
    "        \n",
    "        multi_agent.reset()\n",
    "\n",
    "        while True:\n",
    "            actions = multi_agent.act(states)\n",
    "            \n",
    "            env_info = env.step(actions)[brain_name]  \n",
    "            \n",
    "            next_states = env_info.vector_observations\n",
    "            rewards = env_info.rewards         \n",
    "            dones = env_info.local_done\n",
    "            \n",
    "            multi_agent.step(states, actions, rewards, next_states, dones)   \n",
    "            \n",
    "            states = next_states\n",
    "            score += rewards  \n",
    "\n",
    "            if any(dones):  \n",
    "                break\n",
    "                \n",
    "        score_max = np.max(score)\n",
    "        scores.append(score_max)\n",
    "        scores_window.append(score_max)\n",
    "        average_score = np.mean(scores_window)\n",
    "        average_scores.append(average_score)\n",
    "\n",
    "        \n",
    "        if i_episode % 10 == 0:\n",
    "                print('Episode {}, total score (averaged over agents): {:.3f}'.format(i_episode, np.mean(scores_window)))\n",
    "\n",
    "        if average_score >= 0.5:\n",
    "                multi_agent.save_weights()\n",
    "                print(\"Solved in episode: {}, average score: {:.3f}\".format(i_episode , average_score))\n",
    "                break\n",
    "    \n",
    "    \n",
    "    return scores , average_scores"
   ]
  },
  {
   "cell_type": "markdown",
   "metadata": {},
   "source": [
    "### 3. Main function\n",
    "\n",
    "In the next code cell, you will learn how to use the Python API to control the agent and receive feedback from the environment.\n",
    "\n",
    "Note that **in this coding environment, you will not be able to watch the agents while they are training**, and you should set `train_mode=True` to restart the environment."
   ]
  },
  {
   "cell_type": "code",
   "execution_count": 18,
   "metadata": {},
   "outputs": [
    {
     "name": "stdout",
     "output_type": "stream",
     "text": [
      "Episode 10, total score (averaged over agents): 0.000\n",
      "Episode 20, total score (averaged over agents): 0.000\n",
      "Episode 30, total score (averaged over agents): 0.000\n",
      "Episode 40, total score (averaged over agents): 0.007\n",
      "Episode 50, total score (averaged over agents): 0.014\n",
      "Episode 60, total score (averaged over agents): 0.020\n",
      "Episode 70, total score (averaged over agents): 0.018\n",
      "Episode 80, total score (averaged over agents): 0.016\n",
      "Episode 90, total score (averaged over agents): 0.014\n",
      "Episode 100, total score (averaged over agents): 0.013\n",
      "Episode 110, total score (averaged over agents): 0.013\n",
      "Episode 120, total score (averaged over agents): 0.013\n",
      "Episode 130, total score (averaged over agents): 0.013\n",
      "Episode 140, total score (averaged over agents): 0.010\n",
      "Episode 150, total score (averaged over agents): 0.006\n",
      "Episode 160, total score (averaged over agents): 0.001\n",
      "Episode 170, total score (averaged over agents): 0.000\n",
      "Episode 180, total score (averaged over agents): 0.000\n",
      "Episode 190, total score (averaged over agents): 0.000\n",
      "Episode 200, total score (averaged over agents): 0.000\n",
      "Episode 210, total score (averaged over agents): 0.000\n",
      "Episode 220, total score (averaged over agents): 0.000\n",
      "Episode 230, total score (averaged over agents): 0.000\n",
      "Episode 240, total score (averaged over agents): 0.000\n",
      "Episode 250, total score (averaged over agents): 0.000\n",
      "Episode 260, total score (averaged over agents): 0.000\n",
      "Episode 270, total score (averaged over agents): 0.000\n",
      "Episode 280, total score (averaged over agents): 0.000\n",
      "Episode 290, total score (averaged over agents): 0.000\n",
      "Episode 300, total score (averaged over agents): 0.000\n",
      "Episode 310, total score (averaged over agents): 0.000\n",
      "Episode 320, total score (averaged over agents): 0.000\n",
      "Episode 330, total score (averaged over agents): 0.000\n",
      "Episode 340, total score (averaged over agents): 0.000\n",
      "Episode 350, total score (averaged over agents): 0.003\n",
      "Episode 360, total score (averaged over agents): 0.004\n",
      "Episode 370, total score (averaged over agents): 0.006\n",
      "Episode 380, total score (averaged over agents): 0.007\n",
      "Episode 390, total score (averaged over agents): 0.010\n",
      "Episode 400, total score (averaged over agents): 0.014\n",
      "Episode 410, total score (averaged over agents): 0.016\n",
      "Episode 420, total score (averaged over agents): 0.019\n",
      "Episode 430, total score (averaged over agents): 0.020\n",
      "Episode 440, total score (averaged over agents): 0.023\n",
      "Episode 450, total score (averaged over agents): 0.022\n",
      "Episode 460, total score (averaged over agents): 0.024\n",
      "Episode 470, total score (averaged over agents): 0.022\n",
      "Episode 480, total score (averaged over agents): 0.021\n",
      "Episode 490, total score (averaged over agents): 0.018\n",
      "Episode 500, total score (averaged over agents): 0.014\n",
      "Episode 510, total score (averaged over agents): 0.012\n",
      "Episode 520, total score (averaged over agents): 0.009\n",
      "Episode 530, total score (averaged over agents): 0.007\n",
      "Episode 540, total score (averaged over agents): 0.005\n",
      "Episode 550, total score (averaged over agents): 0.003\n",
      "Episode 560, total score (averaged over agents): 0.000\n",
      "Episode 570, total score (averaged over agents): 0.000\n",
      "Episode 580, total score (averaged over agents): 0.000\n",
      "Episode 590, total score (averaged over agents): 0.000\n",
      "Episode 600, total score (averaged over agents): 0.000\n",
      "Episode 610, total score (averaged over agents): 0.000\n",
      "Episode 620, total score (averaged over agents): 0.000\n",
      "Episode 630, total score (averaged over agents): 0.000\n",
      "Episode 640, total score (averaged over agents): 0.000\n",
      "Episode 650, total score (averaged over agents): 0.000\n",
      "Episode 660, total score (averaged over agents): 0.000\n",
      "Episode 670, total score (averaged over agents): 0.000\n",
      "Episode 680, total score (averaged over agents): 0.000\n",
      "Episode 690, total score (averaged over agents): 0.000\n",
      "Episode 700, total score (averaged over agents): 0.000\n",
      "Episode 710, total score (averaged over agents): 0.000\n",
      "Episode 720, total score (averaged over agents): 0.000\n",
      "Episode 730, total score (averaged over agents): 0.000\n",
      "Episode 740, total score (averaged over agents): 0.000\n",
      "Episode 750, total score (averaged over agents): 0.000\n",
      "Episode 760, total score (averaged over agents): 0.000\n",
      "Episode 770, total score (averaged over agents): 0.000\n",
      "Episode 780, total score (averaged over agents): 0.000\n",
      "Episode 790, total score (averaged over agents): 0.000\n",
      "Episode 800, total score (averaged over agents): 0.000\n",
      "Episode 810, total score (averaged over agents): 0.000\n",
      "Episode 820, total score (averaged over agents): 0.000\n",
      "Episode 830, total score (averaged over agents): 0.000\n",
      "Episode 840, total score (averaged over agents): 0.000\n",
      "Episode 850, total score (averaged over agents): 0.000\n",
      "Episode 860, total score (averaged over agents): 0.000\n",
      "Episode 870, total score (averaged over agents): 0.000\n",
      "Episode 880, total score (averaged over agents): 0.000\n",
      "Episode 890, total score (averaged over agents): 0.000\n",
      "Episode 900, total score (averaged over agents): 0.000\n",
      "Episode 910, total score (averaged over agents): 0.000\n",
      "Episode 920, total score (averaged over agents): 0.001\n",
      "Episode 930, total score (averaged over agents): 0.001\n",
      "Episode 940, total score (averaged over agents): 0.001\n",
      "Episode 950, total score (averaged over agents): 0.003\n",
      "Episode 960, total score (averaged over agents): 0.004\n",
      "Episode 970, total score (averaged over agents): 0.004\n",
      "Episode 980, total score (averaged over agents): 0.004\n",
      "Episode 990, total score (averaged over agents): 0.004\n",
      "Episode 1000, total score (averaged over agents): 0.004\n",
      "Episode 1010, total score (averaged over agents): 0.004\n",
      "Episode 1020, total score (averaged over agents): 0.004\n",
      "Episode 1030, total score (averaged over agents): 0.005\n",
      "Episode 1040, total score (averaged over agents): 0.008\n",
      "Episode 1050, total score (averaged over agents): 0.011\n",
      "Episode 1060, total score (averaged over agents): 0.017\n",
      "Episode 1070, total score (averaged over agents): 0.020\n",
      "Episode 1080, total score (averaged over agents): 0.021\n",
      "Episode 1090, total score (averaged over agents): 0.025\n",
      "Episode 1100, total score (averaged over agents): 0.028\n",
      "Episode 1110, total score (averaged over agents): 0.033\n",
      "Episode 1120, total score (averaged over agents): 0.034\n",
      "Episode 1130, total score (averaged over agents): 0.035\n",
      "Episode 1140, total score (averaged over agents): 0.036\n",
      "Episode 1150, total score (averaged over agents): 0.040\n",
      "Episode 1160, total score (averaged over agents): 0.040\n",
      "Episode 1170, total score (averaged over agents): 0.045\n",
      "Episode 1180, total score (averaged over agents): 0.055\n",
      "Episode 1190, total score (averaged over agents): 0.056\n",
      "Episode 1200, total score (averaged over agents): 0.058\n",
      "Episode 1210, total score (averaged over agents): 0.058\n",
      "Episode 1220, total score (averaged over agents): 0.066\n",
      "Episode 1230, total score (averaged over agents): 0.071\n",
      "Episode 1240, total score (averaged over agents): 0.073\n",
      "Episode 1250, total score (averaged over agents): 0.071\n",
      "Episode 1260, total score (averaged over agents): 0.075\n",
      "Episode 1270, total score (averaged over agents): 0.077\n",
      "Episode 1280, total score (averaged over agents): 0.078\n",
      "Episode 1290, total score (averaged over agents): 0.083\n",
      "Episode 1300, total score (averaged over agents): 0.089\n",
      "Episode 1310, total score (averaged over agents): 0.093\n",
      "Episode 1320, total score (averaged over agents): 0.091\n",
      "Episode 1330, total score (averaged over agents): 0.094\n",
      "Episode 1340, total score (averaged over agents): 0.099\n",
      "Episode 1350, total score (averaged over agents): 0.109\n",
      "Episode 1360, total score (averaged over agents): 0.109\n",
      "Episode 1370, total score (averaged over agents): 0.114\n",
      "Episode 1380, total score (averaged over agents): 0.113\n",
      "Episode 1390, total score (averaged over agents): 0.116\n",
      "Episode 1400, total score (averaged over agents): 0.116\n",
      "Episode 1410, total score (averaged over agents): 0.124\n",
      "Episode 1420, total score (averaged over agents): 0.128\n",
      "Episode 1430, total score (averaged over agents): 0.135\n",
      "Episode 1440, total score (averaged over agents): 0.138\n",
      "Episode 1450, total score (averaged over agents): 0.134\n",
      "Episode 1460, total score (averaged over agents): 0.138\n",
      "Episode 1470, total score (averaged over agents): 0.139\n",
      "Episode 1480, total score (averaged over agents): 0.142\n",
      "Episode 1490, total score (averaged over agents): 0.145\n",
      "Episode 1500, total score (averaged over agents): 0.146\n",
      "Episode 1510, total score (averaged over agents): 0.142\n",
      "Episode 1520, total score (averaged over agents): 0.144\n",
      "Episode 1530, total score (averaged over agents): 0.144\n",
      "Episode 1540, total score (averaged over agents): 0.148\n",
      "Episode 1550, total score (averaged over agents): 0.146\n",
      "Episode 1560, total score (averaged over agents): 0.151\n",
      "Episode 1570, total score (averaged over agents): 0.155\n",
      "Episode 1580, total score (averaged over agents): 0.154\n",
      "Episode 1590, total score (averaged over agents): 0.155\n",
      "Episode 1600, total score (averaged over agents): 0.164\n",
      "Episode 1610, total score (averaged over agents): 0.170\n",
      "Episode 1620, total score (averaged over agents): 0.180\n",
      "Episode 1630, total score (averaged over agents): 0.192\n",
      "Episode 1640, total score (averaged over agents): 0.197\n",
      "Episode 1650, total score (averaged over agents): 0.223\n",
      "Episode 1660, total score (averaged over agents): 0.224\n",
      "Episode 1670, total score (averaged over agents): 0.241\n",
      "Episode 1680, total score (averaged over agents): 0.275\n",
      "Episode 1690, total score (averaged over agents): 0.287\n",
      "Episode 1700, total score (averaged over agents): 0.299\n",
      "Episode 1710, total score (averaged over agents): 0.305\n",
      "Episode 1720, total score (averaged over agents): 0.304\n",
      "Episode 1730, total score (averaged over agents): 0.318\n",
      "Episode 1740, total score (averaged over agents): 0.312\n",
      "Episode 1750, total score (averaged over agents): 0.325\n",
      "Episode 1760, total score (averaged over agents): 0.335\n",
      "Episode 1770, total score (averaged over agents): 0.338\n",
      "Episode 1780, total score (averaged over agents): 0.338\n",
      "Episode 1790, total score (averaged over agents): 0.336\n",
      "Episode 1800, total score (averaged over agents): 0.330\n",
      "Episode 1810, total score (averaged over agents): 0.357\n",
      "Episode 1820, total score (averaged over agents): 0.382\n",
      "Episode 1830, total score (averaged over agents): 0.386\n",
      "Episode 1840, total score (averaged over agents): 0.405\n",
      "Episode 1850, total score (averaged over agents): 0.387\n",
      "Episode 1860, total score (averaged over agents): 0.417\n",
      "Episode 1870, total score (averaged over agents): 0.434\n",
      "Episode 1880, total score (averaged over agents): 0.408\n",
      "Episode 1890, total score (averaged over agents): 0.422\n",
      "Episode 1900, total score (averaged over agents): 0.435\n",
      "Episode 1910, total score (averaged over agents): 0.424\n",
      "Episode 1920, total score (averaged over agents): 0.401\n",
      "Episode 1930, total score (averaged over agents): 0.374\n",
      "Episode 1940, total score (averaged over agents): 0.352\n",
      "Episode 1950, total score (averaged over agents): 0.363\n",
      "Episode 1960, total score (averaged over agents): 0.342\n",
      "Episode 1970, total score (averaged over agents): 0.330\n",
      "Episode 1980, total score (averaged over agents): 0.326\n",
      "Episode 1990, total score (averaged over agents): 0.325\n",
      "Episode 2000, total score (averaged over agents): 0.328\n",
      "Episode 2010, total score (averaged over agents): 0.321\n",
      "Episode 2020, total score (averaged over agents): 0.369\n",
      "Episode 2030, total score (averaged over agents): 0.391\n",
      "Episode 2040, total score (averaged over agents): 0.425\n",
      "Episode 2050, total score (averaged over agents): 0.422\n",
      "Episode 2060, total score (averaged over agents): 0.424\n",
      "Episode 2070, total score (averaged over agents): 0.443\n",
      "Episode 2080, total score (averaged over agents): 0.480\n",
      "Episode 2090, total score (averaged over agents): 0.485\n",
      "Episode 2100, total score (averaged over agents): 0.497\n",
      "Episode 2110, total score (averaged over agents): 0.495\n",
      "Solved in episode: 2111, average score: 0.511\n"
     ]
    },
    {
     "data": {
      "image/png": "[encoded data removed]",
      "text/plain": [
       "<matplotlib.figure.Figure at 0x7f8ddabd7278>"
      ]
     },
     "metadata": {
      "needs_background": "light"
     },
     "output_type": "display_data"
    },
    {
     "data": {
      "image/png": "[encoded data removed]",
      "text/plain": [
       "<matplotlib.figure.Figure at 0x7f8e2039eba8>"
      ]
     },
     "metadata": {
      "needs_background": "light"
     },
     "output_type": "display_data"
    }
   ],
   "source": [
    "if __name__ == '__main__':\n",
    "    scores , average_scores = training()\n",
    "    \n",
    "    fig = plt.figure()\n",
    "    ax = fig.add_subplot(111)\n",
    "    plt.plot(np.arange(1, len(scores)+1), scores)\n",
    "    plt.ylabel('Score')\n",
    "    plt.xlabel('Episode #')\n",
    "    plt.show()\n",
    "    \n",
    "    fig = plt.figure()\n",
    "    ax = fig.add_subplot(111)\n",
    "    plt.plot(np.arange(1, len(average_scores)+1), average_scores)\n",
    "    plt.ylabel('Average Score')\n",
    "    plt.xlabel('Episode #')\n",
    "    plt.show()\n",
    "    \n",
    "     \n",
    "    \n",
    "    "
   ]
  },
  {
   "cell_type": "markdown",
   "metadata": {},
   "source": [
    "When finished, you can close the environment."
   ]
  },
  {
   "cell_type": "code",
   "execution_count": 45,
   "metadata": {},
   "outputs": [],
   "source": [
    "env.close()"
   ]
  },
  {
   "cell_type": "markdown",
   "metadata": {},
   "source": [
    "### 4. Play time\n",
    "\n",
    "In this coding environment, you will not be able to watch the agents while they are training.  However, **_after training the agents_**, you can download the saved model weights to watch the agents on your own machine!"
   ]
  }
 ],
 "metadata": {
  "kernelspec": {
   "display_name": "Python 3",
   "language": "python",
   "name": "python3"
  },
  "language_info": {
   "codemirror_mode": {
    "name": "ipython",
    "version": 3
   },
   "file_extension": ".py",
   "mimetype": "text/x-python",
   "name": "python",
   "nbconvert_exporter": "python",
   "pygments_lexer": "ipython3",
   "version": "3.6.3"
  }
 },
 "nbformat": 4,
 "nbformat_minor": 2
}
